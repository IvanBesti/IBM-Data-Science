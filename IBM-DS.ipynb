{
 "cells": [
  {
   "cell_type": "markdown",
   "id": "91cee081-03d9-4dff-a402-d0f71beccaca",
   "metadata": {},
   "source": [
    "# Data Science Tools and Ecosystem"
   ]
  },
  {
   "cell_type": "markdown",
   "id": "c7dd5019-66cc-4f52-bbff-899dc9013960",
   "metadata": {},
   "source": [
    "In this notebook, Data Science Tools and Ecosystem are summarized."
   ]
  },
  {
   "cell_type": "markdown",
   "id": "1f0901bb-dbf5-4eec-9696-0547ab708282",
   "metadata": {},
   "source": [
    "Some of the popular languages that Data Scientists use are:\n",
    "1. Python\n",
    "2. R\n",
    "3. Julia"
   ]
  },
  {
   "cell_type": "markdown",
   "id": "73210a19-c3b6-4f27-8c7a-2b2308f766cd",
   "metadata": {},
   "source": [
    "Some of the commonly used libraries used by Data Scientists include:\n",
    "1. Pandas\n",
    "2. Numpy\n",
    "3. Matplotlib"
   ]
  },
  {
   "cell_type": "markdown",
   "id": "eb33fdd2-4696-4a76-bec1-8aa7b0286029",
   "metadata": {},
   "source": [
    "| Data Science Tools       |\n",
    "|---------------------------|\n",
    "| Jupyter Notebook         |\n",
    "| RStudio                  |\n",
    "| Apache Zeppelin          |"
   ]
  },
  {
   "cell_type": "markdown",
   "id": "1022155a-ca1b-4d7c-9275-7ff23bc077f3",
   "metadata": {},
   "source": [
    "## Below are a few examples of evaluating arithmetic expressions in Python"
   ]
  },
  {
   "cell_type": "code",
   "execution_count": 22,
   "id": "1b24a859-5c17-4cbe-b5a6-1585ba73645c",
   "metadata": {},
   "outputs": [
    {
     "data": {
      "text/plain": [
       "17"
      ]
     },
     "execution_count": 22,
     "metadata": {},
     "output_type": "execute_result"
    }
   ],
   "source": [
    "#This a simple arithmetic expression to mutiply then add integers\n",
    "(3*4)+5"
   ]
  },
  {
   "cell_type": "code",
   "execution_count": 24,
   "id": "2b8ecee2-6297-4b3b-9af6-7eba8d903717",
   "metadata": {},
   "outputs": [
    {
     "data": {
      "text/plain": [
       "3.3333333333333335"
      ]
     },
     "execution_count": 24,
     "metadata": {},
     "output_type": "execute_result"
    }
   ],
   "source": [
    "#This will convert 200 minutes to hours by diving by 60\n",
    "200/60"
   ]
  },
  {
   "cell_type": "markdown",
   "id": "75c3bcb1-7f3a-4890-85f2-38a8304d8676",
   "metadata": {},
   "source": [
    "__Objectives:__\n",
    "* List popular programming languages for Data Science\n",
    "* List commonly used libraries used by Data Science\n",
    "* List popular Data Science Tools\n",
    "* Create arithmetic code that can multiply & add integers\n",
    "* Create code that can convert 200 minutes to hours"
   ]
  },
  {
   "cell_type": "markdown",
   "id": "6f154db5-04a0-40e8-a14f-8788c6d29da5",
   "metadata": {},
   "source": [
    "## Author\n",
    "Ivan J"
   ]
  },
  {
   "cell_type": "code",
   "execution_count": null,
   "id": "fc4a4c93-821d-48b5-a969-100603d501d5",
   "metadata": {},
   "outputs": [],
   "source": []
  }
 ],
 "metadata": {
  "kernelspec": {
   "display_name": "Python 3 (ipykernel)",
   "language": "python",
   "name": "python3"
  },
  "language_info": {
   "codemirror_mode": {
    "name": "ipython",
    "version": 3
   },
   "file_extension": ".py",
   "mimetype": "text/x-python",
   "name": "python",
   "nbconvert_exporter": "python",
   "pygments_lexer": "ipython3",
   "version": "3.12.7"
  }
 },
 "nbformat": 4,
 "nbformat_minor": 5
}
